{
 "cells": [
  {
   "attachments": {},
   "cell_type": "markdown",
   "metadata": {
    "tags": []
   },
   "source": [
    "# Analiza mreže javnog gradskog prevoza u Beogradu\n",
    "\n",
    "### Opis grafa\n",
    "TODO\n",
    "\n",
    "Podešavanje okruženja:\n",
    "+ pip install ipykernel\n",
    "+ pip install numpy scipy networkx pandas matplotlib\n",
    "+ pip install scikit-learn python-docx\n",
    "\n",
    "Linkovi:\n",
    "+ [Portal otvorenih podataka](https://data.gov.rs/sr/datasets/gtfs/)\n",
    "+ [General Transit Feed Specification](https://en.wikipedia.org/wiki/GTFS)\n",
    "+ [Linije javnog prevoza u Beogradu](https://sr.wikipedia.org/sr-el/%D0%9B%D0%B8%D0%BD%D0%B8%D1%98%D0%B5_%D1%98%D0%B0%D0%B2%D0%BD%D0%BE%D0%B3_%D0%BF%D1%80%D0%B5%D0%B2%D0%BE%D0%B7%D0%B0_%D1%83_%D0%91%D0%B5%D0%BE%D0%B3%D1%80%D0%B0%D0%B4%D1%83)\n",
    "+ [Sekretarijat za javni prevoz](https://www.bgprevoz.rs/)"
   ]
  },
  {
   "attachments": {},
   "cell_type": "markdown",
   "metadata": {},
   "source": [
    "### Globalne stvari"
   ]
  },
  {
   "cell_type": "code",
   "execution_count": null,
   "metadata": {},
   "outputs": [],
   "source": [
    "# importi\n",
    "from datetime import datetime, date, timedelta\n",
    "import numpy as np\n",
    "import scipy.stats as stats\n",
    "import networkx as nx\n",
    "import pandas as pd\n",
    "import pickle\n",
    "import matplotlib.pyplot as plt\n",
    "from itertools import chain, combinations\n",
    "from sklearn.cluster import SpectralClustering\n",
    "from scipy.cluster.hierarchy import dendrogram\n",
    "\n",
    "\n",
    "# putanje\n",
    "original_path = \"../data/!original/\"\n",
    "clean_path = \"../data/clean/\"\n",
    "\n",
    "# globalne funkcije\n",
    "\n",
    "def series_to_single_value(series):\n",
    "    return series.to_list()[0]\n",
    "\n",
    "def cleaned_null_columns(df:pd.DataFrame):\n",
    "    non_null_columns = [column for column in df.columns if not df[column].isna().all()]\n",
    "    return df[non_null_columns]\n",
    "\n",
    "def cleaned_duplicates(df:pd.DataFrame):\n",
    "    no_duplicates = df.drop_duplicates()\n",
    "    number_of_duplicates = df.shape[0] - no_duplicates.shape[0]\n",
    "    return no_duplicates\n",
    "\n",
    "def cleaned_data_frame(df:pd.DataFrame):\n",
    "    return cleaned_duplicates(cleaned_null_columns(df))\n",
    "\n",
    "\n",
    "def is_valid_datetime_str(datetime_str):\n",
    "    format_str = \"%H:%M:%S\"\n",
    "    try:\n",
    "        datetime.strptime(datetime_str, format_str)\n",
    "        return True\n",
    "    except ValueError:\n",
    "        return False\n",
    "    except TypeError:\n",
    "        return False\n",
    "\n",
    "def midnight_converter(datetime_str):\n",
    "    if (not str.startswith(datetime_str, \"24\")):\n",
    "        return datetime_str\n",
    "    else:\n",
    "        return \"00\" + datetime_str[2:]\n",
    "# TODO"
   ]
  },
  {
   "attachments": {},
   "cell_type": "markdown",
   "metadata": {},
   "source": [
    "### Čišćenje podataka"
   ]
  },
  {
   "cell_type": "code",
   "execution_count": null,
   "metadata": {},
   "outputs": [],
   "source": [
    "# # # Originalni podaci se čuvaju u data/!original/ folderu.\n",
    "# Prečišćeni podaci se čuvaju u data/clean/ folderu.\n",
    "# BgNetLWalk podaci se čuvaju u data/consolidate/ folderu.    \n",
    "\n",
    "# TODO: izabrati koji se podaci koriste za izvršavanje\n",
    "# ! Komentare koji pocinju sa uzvicnikom ili upitnikom izbaciti iz finalne verzije\n",
    "df_agency = pd.read_csv(f\"{original_path}/agency.csv\")\n",
    "df_calendar_dates = pd.read_csv(f\"{original_path}/calendar_dates.csv\")\n",
    "df_calendar = pd.read_csv(f\"{original_path}/calendar.csv\")\n",
    "df_fare_attributes = pd.read_csv(f\"{original_path}/fare_attributes.csv\")\n",
    "df_fare_rules = pd.read_csv(f\"{original_path}/fare_rules.csv\")\n",
    "df_feed_info = pd.read_csv(f\"{original_path}feed_info.csv\")\n",
    "df_frequencies = pd.read_csv(f\"{original_path}/frequencies.csv\")#? Treba li da radimo u opstem slucaju i pravimo da ova tabela postoji, ili je bas poenta da je ignorisemo\n",
    "df_routes = pd.read_csv(f\"{original_path}/routes.csv\")\n",
    "df_shapes = pd.read_csv(f\"{original_path}/shapes.csv\")\n",
    "df_stops = pd.read_csv(f\"{original_path}/stops.csv\")\n",
    "df_stop_times = pd.read_csv(f\"{original_path}/stop_times.csv\", dtype={\"stop_headsign\":np.string_})\n",
    "df_transfers = pd.read_csv(f\"{original_path}/transfers.csv\")\n",
    "df_trips = pd.read_csv(f\"{original_path}/trips.csv\")\n",
    "\n",
    "\n",
    "\n",
    "\n",
    "all_frames = [df_agency, df_calendar_dates, df_calendar, df_fare_attributes, df_fare_rules, df_feed_info, df_frequencies, df_routes, df_shapes, df_stops, df_stop_times, df_transfers, df_trips]\n",
    "all_frames_cleaned = [cleaned_data_frame(df) for df in all_frames]\n",
    "\n",
    "\n"
   ]
  },
  {
   "cell_type": "code",
   "execution_count": null,
   "metadata": {},
   "outputs": [],
   "source": [
    "[df_agency, df_calendar_dates, df_calendar, df_fare_attributes, df_fare_rules, df_feed_info, df_frequencies, df_routes, df_shapes, df_stops, df_stop_times, df_transfers, df_trips] = all_frames_cleaned\n",
    "df_agency.to_csv(f\"{clean_path}/agency.csv\", index=False)\n",
    "df_calendar_dates.to_csv(f\"{clean_path}/calendar_dates.csv\", index=False)\n",
    "df_calendar.to_csv(f\"{clean_path}/calendar.csv\", index=False)\n",
    "df_fare_attributes.to_csv(f\"{clean_path}/fare_attributes.csv\", index=False)\n",
    "df_fare_rules.to_csv(f\"{clean_path}/fare_rules.csv\", index=False)\n",
    "df_feed_info.to_csv(f\"{clean_path}/feed_info.csv\", index=False)\n",
    "df_frequencies.to_csv(f\"{clean_path}/frequencies.csv\", index=False)\n",
    "df_routes.to_csv(f\"{clean_path}/routes.csv\", index=False)\n",
    "df_shapes.to_csv(f\"{clean_path}/shapes.csv\", index=False)\n",
    "df_stops.to_csv(f\"{clean_path}/stops.csv\", index=False)\n",
    "df_stop_times.to_csv(f\"{clean_path}/stop_times.csv\", index=False)\n",
    "df_transfers.to_csv(f\"{clean_path}/transfers.csv\", index=False)\n",
    "df_trips.to_csv(f\"{clean_path}/trips.csv\", index=False)"
   ]
  },
  {
   "cell_type": "code",
   "execution_count": null,
   "metadata": {},
   "outputs": [],
   "source": [
    "df_agency = pd.read_csv(f\"{clean_path}/agency.csv\")\n",
    "df_calendar_dates = pd.read_csv(f\"{clean_path}/calendar_dates.csv\")\n",
    "df_calendar = pd.read_csv(f\"{clean_path}/calendar.csv\")\n",
    "df_fare_attributes = pd.read_csv(f\"{clean_path}/fare_attributes.csv\")\n",
    "df_fare_rules = pd.read_csv(f\"{clean_path}/fare_rules.csv\")\n",
    "df_feed_info = pd.read_csv(f\"{clean_path}/feed_info.csv\")\n",
    "df_routes = pd.read_csv(f\"{clean_path}/routes.csv\")\n",
    "df_shapes = pd.read_csv(f\"{clean_path}/shapes.csv\")\n",
    "df_stops = pd.read_csv(f\"{clean_path}/stops.csv\")\n",
    "df_stop_times = pd.read_csv(f\"{clean_path}/stop_times.csv\", dtype={\"stop_headsign\":np.string_})\n",
    "df_trips = pd.read_csv(f\"{clean_path}/trips.csv\")\n",
    "\n",
    "\n",
    "#print(df_routes[\"route_type\"].unique()) #rezultati (0,3, 702, 800) 0 - tramvaj, 3 - autobus, 702 - ekspres autobus, 800 - trolejbus\n",
    "route_type_names = {0:\"Tramvaj\", 3:\"Autobus\", 702:\"Autobus\", 800:\"Trolejbus\"}\n",
    "df_routes[\"route_type_name\"] = df_routes[\"route_type\"].map(route_type_names)"
   ]
  },
  {
   "cell_type": "code",
   "execution_count": null,
   "metadata": {},
   "outputs": [],
   "source": [
    "#TODO: Ovo mozda treba prebaciti u ciscenje podataka\n",
    "df_stop_times = df_stop_times.loc[df_stop_times[\"arrival_time\"].notna() & df_stop_times[\"departure_time\"].notna()]\n",
    "df_stop_times[\"arrival_time\"] = df_stop_times[\"arrival_time\"].map(lambda x: midnight_converter(x))\n",
    "df_stop_times[\"departure_time\"] = df_stop_times[\"departure_time\"].map(lambda x: midnight_converter(x))\n",
    "#for dep_time in df_stop_times[\"departure_time\"]:\n",
    "    #if (not is_valid_datetime_str(dep_time)):\n",
    "        #print(f\"Non valid {dep_time}\")\n",
    "is_valid_datetime_str(123)"
   ]
  },
  {
   "attachments": {},
   "cell_type": "markdown",
   "metadata": {},
   "source": [
    "### Statistička obrada podataka [5 poena]\n",
    "1) Odrediti prosečno vreme između dva polaska svake od linija. Koje su linije sa najčešćim, a koje sa najređim polascima?\n",
    "2) Koje su linije sa najvećim brojem stanica, a koje stanice sa najvećim brojem linija?\n",
    "3) Preračunati očekivani dnevni promet stanice kao ukupan očekivani broj stajanja linije na toj stanici, određen na osnovu planiranog rasporeda vožnje. Koje su stanice sa najvećim očekivanim dnevnim prometom?\n",
    "4) Svakoj stanici dodeliti tip na osnovu vrsta prevoza koje prolaze njom (stanica autobusa, tramvaja, trolejbusa ili meštovita stanica). Koliko ima stanica svakog tipa?"
   ]
  },
  {
   "cell_type": "code",
   "execution_count": null,
   "metadata": {},
   "outputs": [],
   "source": [
    "# 1) Odrediti prosečno vreme između dva polaska svake od linija.\n",
    "# Koje su linije sa najčešćim, a koje sa najređim polascima?\n",
    "\n",
    "# TODO\n",
    "def find_average_departure_times_for_stops():\n",
    "    def get_average_wait(departure_times_str):\n",
    "        def convert_to_time(time_str):\n",
    "            time_object = datetime.strptime(time_str, '%H:%M:%S').time()\n",
    "            return time_object\n",
    "        departure_times = [convert_to_time(time_str) for time_str in departure_times_str if is_valid_datetime_str(time_str)]\n",
    "        departure_times = sorted(departure_times)\n",
    "        average_timedelta = timedelta(0)\n",
    "        num_elements = len(departure_times)\n",
    "        for index in range(1, len(departure_times)):\n",
    "            prev = index - 1\n",
    "            duration = datetime.combine(date.min, departure_times[index]) - datetime.combine(date.min, departure_times[prev])\n",
    "            average_timedelta = average_timedelta + duration  \n",
    "        if num_elements == 0:\n",
    "            inf = 25*60\n",
    "            return pd.NA\n",
    "        average_timedelta = average_timedelta / num_elements\n",
    "        return average_timedelta \n",
    "    \n",
    "    route_names_dict = df_routes[[\"route_id\", \"route_short_name\"]].to_dict()\n",
    "\n",
    "    trips_with_route_name = pd.merge(df_trips, df_routes[[\"route_id\", \"route_short_name\"]], how=\"inner\", on=\"route_id\")\n",
    "    stop_times_with_route_id = pd.merge(df_stop_times[[\"stop_id\", \"trip_id\", \"departure_time\"]], trips_with_route_name[[\"trip_id\", \"route_id\", \"route_short_name\", \"service_id\"]], how=\"inner\", on=\"trip_id\")[[\"stop_id\", \"departure_time\", \"route_id\", \"route_short_name\", \"service_id\"]]\n",
    "    stop_times_with_routes_grouped = stop_times_with_route_id.groupby([\"stop_id\", \"route_id\", \"route_short_name\", \"service_id\"])[\"departure_time\"].apply(lambda x: get_average_wait(list(x)))\n",
    "    stop_times_with_route_id_waits = pd.DataFrame(stop_times_with_routes_grouped)\n",
    "    stop_times_with_routes_sorted = stop_times_with_route_id_waits.sort_values(\"departure_time\")\n",
    "    stop_times_with_routes_sorted = stop_times_with_routes_sorted.rename(columns={\"departure_time\":\"average_wait\"})\n",
    "    stop_times_with_routes_sorted = stop_times_with_routes_sorted.dropna(subset=[\"average_wait\"])\n",
    "    stop_times_with_routes_sorted = stop_times_with_routes_sorted[stop_times_with_routes_sorted[\"average_wait\"] != timedelta(0)]#radi za sad\n",
    "    \n",
    "    return stop_times_with_routes_sorted\n",
    "\n",
    "find_average_departure_times_for_stops()"
   ]
  },
  {
   "cell_type": "code",
   "execution_count": null,
   "metadata": {},
   "outputs": [],
   "source": [
    "# 2) Koje su linije sa najvećim brojem stanica, a koje stanice sa najvećim brojem linija?\n",
    "\n",
    "# TODO\n",
    "#stops (identified by the name) with routes\n",
    "\n",
    "# TODO Treba li izvrsiti spajanje stanica pa iskombinovati sa ovim?\n",
    "# TODO: Malko su sumnjivi rezultati\n",
    "def find_routes_with_most_stops():\n",
    "    stop_times_with_route_id = pd.merge(df_stop_times[[\"stop_id\", \"trip_id\"]], df_trips[[\"trip_id\", \"route_id\"]], how=\"inner\", on=\"trip_id\")\n",
    "    route_ids_with_num_stops = stop_times_with_route_id.groupby(\"route_id\")[\"stop_id\"].nunique().reset_index(name='number_of_distinct_stop_ids')\n",
    "    route_ids_with_max_stops = route_ids_with_num_stops.loc[route_ids_with_num_stops[\"number_of_distinct_stop_ids\"] == route_ids_with_num_stops[\"number_of_distinct_stop_ids\"].max()]\n",
    "    route_with_most_stops_with_names = pd.merge(df_routes[[\"route_id\", \"route_short_name\"]], route_ids_with_max_stops, how=\"inner\", on=\"route_id\")\n",
    "    return route_with_most_stops_with_names\n",
    "\n",
    "\n",
    "def find_stops_with_most_routes():\n",
    "    stop_times_with_route_id = pd.merge(df_stop_times[[\"stop_id\", \"trip_id\"]], df_trips[[\"trip_id\", \"route_id\"]], how=\"inner\", on=\"trip_id\")\n",
    "    stop_ids_with_num_routes = stop_times_with_route_id.groupby(\"stop_id\")[\"route_id\"].nunique().reset_index(name='number_of_distinct_route_ids')\n",
    "    stops_with_most_routes = stop_ids_with_num_routes.loc[stop_ids_with_num_routes[\"number_of_distinct_route_ids\"] == stop_ids_with_num_routes[\"number_of_distinct_route_ids\"].max()]\n",
    "    stops_with_most_routes_with_names = pd.merge(df_stops[[\"stop_id\", \"stop_name\"]], stops_with_most_routes, how=\"inner\", on=\"stop_id\")\n",
    "    return stops_with_most_routes_with_names\n",
    "\n",
    "#find_stops_with_most_routes()\n",
    "find_routes_with_most_stops()\n",
    "\n",
    "\n"
   ]
  },
  {
   "cell_type": "code",
   "execution_count": null,
   "metadata": {},
   "outputs": [],
   "source": [
    "# 3) Preračunati očekivani dnevni promet stanice kao ukupan očekivani broj stajanja linije na toj stanici,\n",
    "# određen na osnovu planiranog rasporeda vožnje. Koje su stanice sa najvećim očekivanim dnevnim prometom?\n",
    "\n",
    "# TODO: Veliko je pitanje da li se ovi tripovi upisuju svakoga dana ili, kao sto cu za sad pretpostaviti, \n",
    "# planirani generalno za dan, tj. da ne moram da delim sa brojem dana.  \n",
    "\n",
    "\n",
    "\n",
    "def get_stops_with_most_traffic():\n",
    "    stops_with_trips = pd.merge(df_stop_times[[\"stop_id\", \"trip_id\"]], df_trips[[\"trip_id\", \"service_id\"]], how=\"inner\", on=\"trip_id\")\n",
    "    #stops_with_trips = pd.merge(stop_ids_with_trips, df_stops[[\"stop_name\", \"stop_id\"]], how=\"inner\", on=\"stop_id\")[[\"stop_name\", \"service_id\", \"trip_id\"]]\n",
    "    stops_with_trips_grouped = stops_with_trips.groupby([\"stop_id\", \"service_id\"]).nunique()\n",
    "    stops_with_trips_sorted =  stops_with_trips_grouped.sort_values(\"trip_id\", ascending=False)\n",
    "    stops_with_trips_sorted_with_names = pd.merge(df_stops[[\"stop_name\", \"stop_id\"]], stops_with_trips_sorted, on=\"stop_id\", how= \"inner\").sort_values(\"trip_id\", ascending=False)\n",
    "    return stops_with_trips_sorted_with_names[[\"stop_name\", \"trip_id\"]].rename(columns={\"trip_id\":\"Number of trips\"})\n",
    "\n",
    "get_stops_with_most_traffic()"
   ]
  },
  {
   "cell_type": "code",
   "execution_count": null,
   "metadata": {},
   "outputs": [],
   "source": [
    "# 4) Svakoj stanici dodeliti tip na osnovu vrsta prevoza koje prolaze njom\n",
    "# (stanica autobusa, tramvaja, trolejbusa ili meštovita stanica). Koliko ima stanica svakog tipa?\n",
    "\n",
    "# TODO Da li je ovde bitan smer?\n",
    "def get_stops_with_route_type():\n",
    "    stops_with_route_id = pd.merge(df_stop_times[[\"stop_id\", \"trip_id\"]], df_trips[[\"trip_id\", \"route_id\"]], how=\"inner\", on=\"trip_id\")\n",
    "    stops_with_route_type = pd.merge(stops_with_route_id[[\"stop_id\", \"route_id\"]], df_routes[[\"route_id\", \"route_type_name\"]], how=\"inner\", on=\"route_id\")[[\"stop_id\", \"route_type_name\"]]\n",
    "    stops_with_route_type = pd.DataFrame(stops_with_route_type.groupby('stop_id')['route_type_name'].apply(lambda x: ', '.join(x.unique())))\n",
    "    stops_with_route_type.loc[stops_with_route_type['route_type_name'].str.contains(\",\"), 'route_type_name'] = \"Mesano\"\n",
    "    return stops_with_route_type\n",
    "\n",
    "def count_stops_per_route_type(stops_with_route_type:pd.DataFrame):\n",
    "    route_types_with_num_stops = stops_with_route_type.groupby(\"route_type_name\")[\"stop_id\"].nunique().reset_index(name=\"Number of stops\")\n",
    "    return route_types_with_num_stops\n",
    "\n",
    "\n",
    "stops_with_route_type = get_stops_with_route_type()\n",
    "stops_with_route_type_full = pd.merge(df_stops, stops_with_route_type, how=\"inner\", on=\"stop_id\")\n",
    "stops_with_route_type_full.to_csv(f\"{clean_path}/stops_with_route_type.csv\", index=False)\n",
    "count_stops_per_route_type(stops_with_route_type_full)\n",
    "\n"
   ]
  },
  {
   "attachments": {},
   "cell_type": "markdown",
   "metadata": {},
   "source": [
    "### Pravljenje mrežnih modela "
   ]
  },
  {
   "cell_type": "code",
   "execution_count": null,
   "metadata": {},
   "outputs": [],
   "source": [
    "#TODO: Treba izvrsiti spajanje stanica. Nisam siguran da li to radimo iz dfova, ili nakon sto napravimo grafove, pa na osnovu njih"
   ]
  },
  {
   "cell_type": "code",
   "execution_count": null,
   "metadata": {},
   "outputs": [],
   "source": [
    "#Pomocne funkcije\n",
    "#TODO: Mozda data framove zameniti nekim sa mergovanim stvarima\n",
    "\n",
    "\n",
    "def make_graph_from_field_and_attribute(df_with_pairs:pd.DataFrame, common_attribute_name, element_name):\n",
    "    df_grouped = pd.DataFrame(df_with_pairs.groupby([common_attribute_name])[element_name].apply(lambda x: ', '.join(x.unique())))\n",
    "    #df_grouped = pd.DataFrame(df_with_pairs.groupby([common_attribute_name])[element_name].apply(lambda x: ', '.join(str(x))))\n",
    "    smaller_example = df_grouped.head(20)\n",
    "    G = nx.Graph()\n",
    "    list_of_vertices_with_common_attribute = [l.split(',') for l in df_grouped[element_name]]\n",
    "    #list_of_vertices_with_common_attribute = [l.split(',') for l in smaller_example[element_name]]\n",
    "    for adjacent_vertices_group in list_of_vertices_with_common_attribute:\n",
    "        edges = [edge for edge in combinations(adjacent_vertices_group, 2)]\n",
    "        G.add_edges_from(edges)\n",
    "    return G\n",
    "\n",
    "\n",
    "stops_with_route_id = pd.merge(df_stop_times[[\"stop_id\", \"trip_id\"]], df_trips[[\"trip_id\", \"route_id\"]], how=\"inner\", on=\"trip_id\")\n",
    "stops_with_route_id = stops_with_route_id[[\"stop_id\", \"route_id\"]].drop_duplicates()\n",
    "stops_with_route_id_with_names = pd.merge(stops_with_route_id, df_routes[[\"route_id\", \"route_short_name\"]], how=\"inner\", on=\"route_id\")\n",
    "stops_routes_pairs = stops_with_route_id_with_names[[\"stop_id\", \"route_short_name\"]]\n",
    "stops_with_list_of_routes = pd.DataFrame(stops_routes_pairs.groupby([\"stop_id\"])[\"route_short_name\"].apply(lambda x: ', '.join(x.unique())))\n",
    "\n",
    "\n",
    "\n",
    "smaller_example = stops_with_list_of_routes.head(20)\n",
    "\n",
    "\n",
    "G0 = make_graph_from_field_and_attribute(stops_routes_pairs, \"stop_id\", \"route_short_name\")\n",
    "#G1 = make_graph_from_field_and_attribute(stops_routes_pairs, \"route_short_name\", \"stop_id\")\n",
    "\n",
    "#print(G1.edges)\n",
    "\n"
   ]
  },
  {
   "cell_type": "code",
   "execution_count": null,
   "metadata": {},
   "outputs": [],
   "source": [
    "#Cvorovi su stanice koje su povezane ukoliko su susedne stanice neke linije\n",
    "def make_L_space():    \n",
    "    df_trips_same_day = df_trips.loc[df_trips[\"service_id\"] == \"Zimski-Radni Dan\"]#pretpostavka da se svaka linija obidje po jednom\n",
    "    #pd.merge(df_trips_same_day, df_stop_times, on=\"trip_id\", how=\"inner\")\n",
    "    df_stops_with_order = df_stop_times[[\"trip_id\",\"stop_id\", \"stop_sequence\"]].drop_duplicates()#TODO: Treba isprobati da li bi sad naivno resenje red po red radilo isto\n",
    "    df_stops_with_order = df_stops_with_order.set_index([\"trip_id\", \"stop_id\", \"stop_sequence\"])\n",
    "\n",
    "\n",
    "    df_stops_with_order_grouped = df_stops_with_order.groupby(\"trip_id\")\n",
    "\n",
    "    list_of_stops_per_trip = []\n",
    "    for trip_id, group_data in df_stops_with_order_grouped:\n",
    "        stops = [(stop_id, seq_num) for _, stop_id, seq_num in group_data.index]\n",
    "        list_of_stops_per_trip.append((trip_id, stops))\n",
    "\n",
    "    L = nx.Graph()\n",
    "    for _, stops in list_of_stops_per_trip:\n",
    "        #stanice su na istom putu, ergo na istoj ruti, tako da su susende ako imaju redni broj veci za 1\n",
    "        for index, (stop_id, seq_num) in enumerate(stops):\n",
    "            if index + 1 < len(stops):\n",
    "                next_stop_id, next_seq_num = stops[index + 1]\n",
    "                L.add_edge(stop_id, next_stop_id)\n",
    "    return L\n",
    "L = make_L_space()\n",
    "L.edges"
   ]
  },
  {
   "cell_type": "code",
   "execution_count": null,
   "metadata": {},
   "outputs": [],
   "source": [
    "#Cvorovi su stanice koje su povezane ukoliko neka linija prolazi kroz njih\n",
    "def make_P_space():\n",
    "    P = make_graph_from_field_and_attribute(stops_routes_pairs, \"stop_id\", \"route_short_name\")\n",
    "    print(P.edges)\n",
    "    return P\n",
    "make_P_space()\n"
   ]
  },
  {
   "cell_type": "code",
   "execution_count": null,
   "metadata": {},
   "outputs": [],
   "source": [
    "#Cvorovi su linije koje su povezane ako imaju zajednicku stanicu\n",
    "def make_C_space():\n",
    "    C = nx.Graph()\n",
    "    return C"
   ]
  },
  {
   "cell_type": "code",
   "execution_count": null,
   "metadata": {},
   "outputs": [],
   "source": [
    "L_space = make_L_space()\n",
    "C_space = make_C_space()\n",
    "P_space = make_P_space()"
   ]
  },
  {
   "attachments": {},
   "cell_type": "markdown",
   "metadata": {},
   "source": [
    "### Osnovna karakterizacija modelovanih mreža [10 poena]\n",
    "5) Kolika je gustina mreže?\n",
    "6) Kolike su prosečne distance u okviru mreže i dijametar mreže?\n",
    "7) U kojoj meri je mreža povezana i centralizovana? Navesti broj i veličine povezanih komponenata i proceniti da li postoji gigantska komponenta.\n",
    "8) Koliki je prosečni, a koliki globalni koeficijent klasterizacije mreže? Kakva je raspodela lokalnog koeficijenta klasterizacije njenih čvorova? Da li je klasterisanje izraženo ili ne? Odgovor dati upoređivanjem sa slučajno generisanim Erdos-Renyi i scale free mrežama istih dimenzija.\n",
    "9) Na osnovu odgovora na pitanja 6 i 8, proceniti da li mreža iskazuje osobine malog sveta.\n",
    "10) Izvršiti asortativnu analizu po stepenu čvora i dati odgovor da li je izraženo asortativno mešanje. Priložiti i vizuelizaciju.\n",
    "11) Da li mreža ispoljava fenomen kluba bogatih (eng. rich club phenomenon)?\n",
    "12) Analizirati stajališta na osnovu tarifne zone kojoj pripadaju. Ispitati da li BGNetL i BGNetP mreže odgovaraju modelu jezgra i periferije (core-periphery model). Smatrati da prva zona pripada jezgru, a ostale periferiji.\n",
    "13) Kakva je distribucija čvorova po stepenu i da li prati power law raspodelu?"
   ]
  },
  {
   "cell_type": "code",
   "execution_count": null,
   "metadata": {},
   "outputs": [],
   "source": [
    "# 5) Kolika je gustina mreže?\n",
    "\n",
    "#TODO\n"
   ]
  },
  {
   "cell_type": "code",
   "execution_count": null,
   "metadata": {},
   "outputs": [],
   "source": [
    "# 6) Kolike su prosečne distance u okviru mreže i dijametar mreže?\n",
    "\n",
    "#TODO\n"
   ]
  },
  {
   "cell_type": "code",
   "execution_count": null,
   "metadata": {},
   "outputs": [],
   "source": [
    "# 7) U kojoj meri je mreža povezana i centralizovana?\n",
    "# Navesti broj i veličine povezanih komponenata i proceniti da li postoji gigantska komponenta.\n",
    "\n",
    "#TODO\n",
    "nx.centrality"
   ]
  },
  {
   "cell_type": "code",
   "execution_count": null,
   "metadata": {},
   "outputs": [],
   "source": [
    "# 8) Koliki je prosečni, a koliki globalni koeficijent klasterizacije mreže?\n",
    "# Kakva je raspodela lokalnog koeficijenta klasterizacije njenih čvorova?\n",
    "# Da li je klasterisanje izraženo ili ne?\n",
    "# Odgovor dati upoređivanjem sa slučajno generisanim Erdos-Renyi i scale free mrežama istih dimenzija.\n",
    "\n",
    "#TODO"
   ]
  },
  {
   "cell_type": "code",
   "execution_count": null,
   "metadata": {},
   "outputs": [],
   "source": [
    "# 9) Na osnovu odgovora na pitanja 6 i 8, proceniti da li mreža iskazuje osobine malog sveta.\n",
    "\n",
    "#TODO"
   ]
  },
  {
   "cell_type": "code",
   "execution_count": null,
   "metadata": {},
   "outputs": [],
   "source": [
    "# 10) Izvršiti asortativnu analizu po stepenu čvora i dati odgovor\n",
    "# da li je izraženo asortativno mešanje. Priložiti i vizuelizaciju.\n",
    "\n",
    "#TODO"
   ]
  },
  {
   "cell_type": "code",
   "execution_count": null,
   "metadata": {},
   "outputs": [],
   "source": [
    "# 11) Da li mreža ispoljava fenomen kluba bogatih (eng. rich club phenomenon)?\n",
    "\n",
    "#TODO"
   ]
  },
  {
   "cell_type": "code",
   "execution_count": null,
   "metadata": {},
   "outputs": [],
   "source": [
    "# 12) Analizirati stajališta na osnovu tarifne zone kojoj pripadaju.\n",
    "# Ispitati da li BGNetL i BGNetP mreže odgovaraju modelu jezgra i periferije (core-periphery model).\n",
    "# Smatrati da prva zona pripada jezgru, a ostale periferiji.\n",
    "\n",
    "#TODO"
   ]
  },
  {
   "cell_type": "code",
   "execution_count": null,
   "metadata": {},
   "outputs": [],
   "source": [
    "# 13) Kakva je distribucija čvorova po stepenu i da li prati power law raspodelu?\n",
    "\n",
    "#TODO"
   ]
  },
  {
   "attachments": {},
   "cell_type": "markdown",
   "metadata": {},
   "source": [
    "### Analiza mera centralnosti [5 poena]\n",
    "14) Sprovesti analize centralnosti po stepenu, bliskosti i relacionoj centralnosti. Dati pregled najvažnijih aktera po svakoj od njih.\n",
    "15) Ko su najvažniji akteri po centralnosti po sopstvenom vektoru? Šta nam to govori o njima?\n",
    "16) Na osnovu prethodna dva pitanja predložiti i konstruisati heuristiku (kompozitnu meru centralnosti) za pronalaženje najvažnijih aktera i pronaći ih. Obratiti pažnju na tip mreže koji se analizira (usmerena ili neusmerena) i, shodno tome, prilagoditi koliko različite mrežne metrike utiču na heuristiku."
   ]
  },
  {
   "cell_type": "code",
   "execution_count": null,
   "metadata": {},
   "outputs": [],
   "source": [
    "# 14) Sprovesti analize centralnosti po stepenu, bliskosti i relacionoj centralnosti.\n",
    "# Dati pregled najvažnijih aktera po svakoj od njih.\n",
    "\n",
    "# TODO"
   ]
  },
  {
   "cell_type": "code",
   "execution_count": null,
   "metadata": {},
   "outputs": [],
   "source": [
    "# 15) Ko su najvažniji akteri po centralnosti po sopstvenom vektoru? Šta nam to govori o njima?\n",
    "\n",
    "# TODO"
   ]
  },
  {
   "cell_type": "code",
   "execution_count": null,
   "metadata": {},
   "outputs": [],
   "source": [
    "# 16) Na osnovu prethodna dva pitanja predložiti i konstruisati heuristiku (kompozitnu meru centralnosti)\n",
    "# za pronalaženje najvažnijih aktera i pronaći ih. Obratiti pažnju na tip mreže koji se analizira (usmerena ili neusmerena) i,\n",
    "# shodno tome, prilagoditi koliko različite mrežne metrike utiču na heuristiku.\n",
    "\n",
    "# TODO"
   ]
  },
  {
   "attachments": {},
   "cell_type": "markdown",
   "metadata": {},
   "source": [
    "### Detekcija komuna Luvenskom metodom [5 poena]\n",
    "17) Sprovesti klasterisanje Luvenskom metodom (maksimizacijom modularnosti) u alatu Gephi za tri različite vrednosti parametra rezolucije. Konstruisati vizuelizacije i diskutovati izbor parametra rezolucije na dobijeno klasterisanje (broj i veličina klastera).\n",
    "18) Koje zajednice (komune) se mogu uočiti prilikom analize mreže, a koji akteri su ključni brokeri? Da li postoji neko objašnjenje za detektovane komune? Odgovor dati posmatrajući ne samo strukturu mreže, već i atribute preračunate u pitanjima 3 i 4."
   ]
  },
  {
   "cell_type": "code",
   "execution_count": null,
   "metadata": {},
   "outputs": [],
   "source": [
    "# 17) Sprovesti klasterisanje Luvenskom metodom (maksimizacijom modularnosti) u alatu Gephi za tri različite vrednosti parametra rezolucije.\n",
    "# Konstruisati vizuelizacije i diskutovati izbor parametra rezolucije na dobijeno klasterisanje (broj i veličina klastera).\n",
    "\n",
    "# TODO"
   ]
  },
  {
   "cell_type": "code",
   "execution_count": null,
   "metadata": {},
   "outputs": [],
   "source": [
    "# 18) Koje zajednice (komune) se mogu uočiti prilikom analize mreže, a koji akteri su ključni brokeri?\n",
    "# Da li postoji neko objašnjenje za detektovane komune?\n",
    "# Odgovor dati posmatrajući ne samo strukturu mreže, već i atribute preračunate u pitanjima 3 i 4.\n",
    "\n",
    "# TODO"
   ]
  },
  {
   "attachments": {},
   "cell_type": "markdown",
   "metadata": {},
   "source": [
    "### Detekcija komuna spektralnim klasterisanjem [10 poena]\n",
    "19) Predložiti funkcije sličnosti za L i P modele koje, osim strukturnih informacija iz odgovarajućih mreža, uključuju i geografske podatke o čvorovima i konstruisati matrice sličnosti i graf Laplasijane na osnovu predloženih funkcija sličnosti.\n",
    "20) Sprovesti sprektralnu analizu i proceniti potencijalne kandidate za broj komuna u mreži. Uporediti rezultat sa dendogramom konstruisanim Girvan-Newman metodom.\n",
    "21) Izvršiti spektralno klasterisanje na osnovu konstruisanih funkcija sličnosti i procenjenog broja klastera. Vizuelizovati klasterisanje na mapi gradskog saobraćaja, tako što će se stanice koje su svrstane u isti klaster crtati istom bojom. Izabrati boje koje daju dobar kontrast u odnosu na mapu i boje drugih klastera.\n",
    "22) Ko su akteri koji se mogu okarakterisati kao ključni brokeri (mostovi) u mreži? Šta ih čini brokerima? Porediti odgovor sa brokerima dobijenim u pitanju 17."
   ]
  },
  {
   "cell_type": "code",
   "execution_count": null,
   "metadata": {},
   "outputs": [],
   "source": [
    "# 19) Predložiti funkcije sličnosti za L i P modele koje, osim strukturnih informacija iz odgovarajućih mreža,\n",
    "# uključuju i geografske podatke o čvorovima i konstruisati matrice sličnosti i graf Laplasijane na osnovu predloženih funkcija sličnosti.\n",
    "\n",
    "# TODO"
   ]
  },
  {
   "cell_type": "code",
   "execution_count": null,
   "metadata": {},
   "outputs": [],
   "source": [
    "# 20) Sprovesti sprektralnu analizu i proceniti potencijalne kandidate za broj komuna u mreži.\n",
    "# Uporediti rezultat sa dendogramom konstruisanim Girvan-Newman metodom.\n",
    "\n",
    "# TODO"
   ]
  },
  {
   "cell_type": "code",
   "execution_count": null,
   "metadata": {},
   "outputs": [],
   "source": [
    "# 21) Izvršiti spektralno klasterisanje na osnovu konstruisanih funkcija sličnosti i procenjenog broja klastera.\n",
    "# Vizuelizovati klasterisanje na mapi gradskog saobraćaja, tako što će se stanice koje su svrstane u isti klaster crtati istom bojom.\n",
    "# Izabrati boje koje daju dobar kontrast u odnosu na mapu i boje drugih klastera.\n",
    "\n",
    "# TODO"
   ]
  },
  {
   "cell_type": "code",
   "execution_count": null,
   "metadata": {},
   "outputs": [],
   "source": [
    "# 22) Ko su akteri koji se mogu okarakterisati kao ključni brokeri (mostovi) u mreži?\n",
    "# Šta ih čini brokerima?\n",
    "# Porediti odgovor sa brokerima dobijenim u pitanju 17.\n",
    "\n",
    "# TODO"
   ]
  },
  {
   "attachments": {},
   "cell_type": "markdown",
   "metadata": {},
   "source": [
    "### Analiza mreže BGNetLWalk [5 poena]\n",
    "23) Ponoviti sve analize koje imaju smisla za BGNetLWalk mrežu. Uporediti i komentarisati dobijene rezultate sa BGNetL mrežom. Da li se uočavaju značajnije promene u mreži?"
   ]
  },
  {
   "cell_type": "code",
   "execution_count": null,
   "metadata": {},
   "outputs": [],
   "source": [
    "# 23) Ponoviti sve analize koje imaju smisla za BGNetLWalk mrežu.\n",
    "# Uporediti i komentarisati dobijene rezultate sa BGNetL mrežom.\n",
    "# Da li se uočavaju značajnije promene u mreži?\n",
    "\n",
    "# TODO: pokrenuti notebook sa drugačijim parametrima"
   ]
  }
 ],
 "metadata": {
  "kernelspec": {
   "display_name": "Python 3.10.8 ('transportation')",
   "language": "python",
   "name": "python3"
  },
  "language_info": {
   "codemirror_mode": {
    "name": "ipython",
    "version": 3
   },
   "file_extension": ".py",
   "mimetype": "text/x-python",
   "name": "python",
   "nbconvert_exporter": "python",
   "pygments_lexer": "ipython3",
   "version": "3.10.8"
  },
  "orig_nbformat": 4,
  "vscode": {
   "interpreter": {
    "hash": "ca004c2a04cd50eac9f754ef6aa1cd1a69bcab382224ee4cd556869f43c35bb8"
   }
  }
 },
 "nbformat": 4,
 "nbformat_minor": 2
}
